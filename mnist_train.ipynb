{
 "cells": [
  {
   "cell_type": "code",
   "execution_count": 1,
   "metadata": {},
   "outputs": [],
   "source": [
    "import numpy as np\n",
    "import torch\n",
    "import torch.nn as nn\n",
    "import torch.nn.functional as F\n",
    "import torch.optim as optim\n",
    "import torch.autograd as autograd\n",
    "from torchvision import datasets, transforms\n",
    "import matplotlib.pyplot as plt\n",
    "from tqdm import tqdm\n",
    "import json\n",
    "from urllib.request import urlopen\n",
    "from sklearn.model_selection import train_test_split\n",
    "import pickle as pl"
   ]
  },
  {
   "cell_type": "markdown",
   "metadata": {},
   "source": [
    "# Create Network"
   ]
  },
  {
   "cell_type": "code",
   "execution_count": 3,
   "metadata": {},
   "outputs": [],
   "source": [
    "class STEFunction(autograd.Function):\n",
    "    @staticmethod\n",
    "    def forward(ctx,input):\n",
    "        return ((input > 0).float()-0.5)*2\n",
    "    @staticmethod\n",
    "    def backward(ctx,grad_output):\n",
    "        return grad_output\n",
    "    \n",
    "class STE(nn.Module):\n",
    "    def __init__(self):\n",
    "        super(STE,self).__init__()\n",
    "    def forward(self,x):\n",
    "        x=STEFunction.apply(x)\n",
    "        return x"
   ]
  },
  {
   "cell_type": "code",
   "execution_count": 4,
   "metadata": {},
   "outputs": [],
   "source": [
    "class StepHTFunction(autograd.Function):\n",
    "    @staticmethod\n",
    "    def forward(ctx, input):\n",
    "        ctx.save_for_backward(input)\n",
    "        return ((input > 0).float()-0.5)*2\n",
    "    @staticmethod\n",
    "    def backward(ctx, grad_output):\n",
    "        input,=ctx.saved_tensors\n",
    "        ones=torch.ones(input.size())\n",
    "        ind=torch.logical_and(input>-ones,input<ones).float()\n",
    "        return ind*grad_output\n",
    "\n",
    "class StepHT(nn.Module):\n",
    "    def __init__(self):\n",
    "        super(StepHT, self).__init__()\n",
    "    def forward(self, x):\n",
    "        x = StepHTFunction.apply(x)\n",
    "        return x"
   ]
  },
  {
   "cell_type": "code",
   "execution_count": 5,
   "metadata": {},
   "outputs": [],
   "source": [
    "bias=False\n",
    "# act_fun=nn.ReLU\n",
    "# act_fun=nn.Tanh\n",
    "# act_fun=nn.Hardtanh\n",
    "act_fun=StepHT\n",
    "# act_fun=STE\n",
    "\n",
    "class FCN(nn.Module):\n",
    "  def __init__(self,width,depth,in_size,out_size):\n",
    "    super(FCN,self).__init__()\n",
    "    self.width=width\n",
    "    self.depth=depth\n",
    "    self.out_size=out_size\n",
    "    layers=[nn.Linear(in_size,width,bias=bias),act_fun()]\n",
    "    for _ in range(depth-2):\n",
    "      layers.append(nn.Linear(width,width,bias=bias))\n",
    "      layers.append(act_fun())\n",
    "    layers.append(nn.Linear(width,out_size,bias=bias))\n",
    "    layers.append(act_fun())\n",
    "#     layers.append(STE())\n",
    "    self.fcn=nn.Sequential(*layers)\n",
    "    return\n",
    "\n",
    "  def forward(self,x):\n",
    "    return self.fcn(x)"
   ]
  },
  {
   "cell_type": "code",
   "execution_count": 6,
   "metadata": {},
   "outputs": [],
   "source": [
    "def init_weights(m):\n",
    "    if isinstance(m, nn.Linear):\n",
    "        torch.nn.init.kaiming_normal_(m.weight,nonlinearity='linear')\n",
    "#         torch.nn.init.kaiming_uniform_(m.weight,nonlinearity='linear')\n",
    "#         torch.nn.init.ones_(m.weight)\n",
    "#         torch.nn.init.zeros_(m.weight)\n",
    "#         torch.nn.init.normal_(m.weight,mean=0,std=0.01)"
   ]
  },
  {
   "cell_type": "markdown",
   "metadata": {},
   "source": [
    "# Load dataset"
   ]
  },
  {
   "cell_type": "code",
   "execution_count": 17,
   "metadata": {},
   "outputs": [],
   "source": [
    "n_epochs = 500\n",
    "step=1\n",
    "batch_size_train = 32\n",
    "batch_size_test = 1000\n",
    "learning_rate = 1e-4\n",
    "momentum = 0.9\n",
    "input_size=28**2\n",
    "output_size=10\n",
    "depth=4\n",
    "width=512\n",
    "\n",
    "margin=10\n",
    "gamma=1"
   ]
  },
  {
   "cell_type": "code",
   "execution_count": 18,
   "metadata": {},
   "outputs": [],
   "source": [
    "def binarize(x):\n",
    "    return (torch.round(x)-0.5)*2"
   ]
  },
  {
   "cell_type": "code",
   "execution_count": 20,
   "metadata": {},
   "outputs": [],
   "source": [
    "# Binarizes MNIST\n",
    "train_loader = torch.utils.data.DataLoader(datasets.MNIST('data/', train=True, download=True, \n",
    "    transform=transforms.Compose([\n",
    "                               transforms.ToTensor(),\n",
    "                               binarize,\n",
    "        torch.flatten\n",
    "                             ])),\n",
    "  batch_size=batch_size_train, shuffle=True)\n",
    "\n",
    "test_loader = torch.utils.data.DataLoader(datasets.MNIST('data/', train=False, download=True,\n",
    "                             transform=transforms.Compose([\n",
    "                               transforms.ToTensor(),\n",
    "                                 torch.flatten,\n",
    "                                 binarize\n",
    "                             ])),\n",
    "  batch_size=batch_size_test, shuffle=False)"
   ]
  },
  {
   "cell_type": "code",
   "execution_count": 21,
   "metadata": {},
   "outputs": [],
   "source": [
    "# # Not binarized MNIST\n",
    "# train_loader = torch.utils.data.DataLoader(datasets.MNIST('data/', train=True, download=True, \n",
    "#     transform=transforms.Compose([\n",
    "#                                transforms.ToTensor(),\n",
    "#         torch.flatten\n",
    "#                              ])),\n",
    "#   batch_size=batch_size_train, shuffle=True)\n",
    "\n",
    "# test_loader = torch.utils.data.DataLoader(datasets.MNIST('data/', train=False, download=True,\n",
    "#                              transform=transforms.Compose([\n",
    "#                                transforms.ToTensor(),\n",
    "#                                  torch.flatten\n",
    "#                              ])),\n",
    "#   batch_size=batch_size_test, shuffle=False)"
   ]
  },
  {
   "cell_type": "code",
   "execution_count": 22,
   "metadata": {},
   "outputs": [],
   "source": [
    "test_num=len(next(iter(test_loader))[0])"
   ]
  },
  {
   "cell_type": "code",
   "execution_count": 23,
   "metadata": {},
   "outputs": [],
   "source": [
    "features, labels=next(iter(test_loader))"
   ]
  },
  {
   "cell_type": "code",
   "execution_count": 24,
   "metadata": {},
   "outputs": [
    {
     "data": {
      "text/plain": [
       "[<matplotlib.lines.Line2D at 0x127c6e0d280>]"
      ]
     },
     "execution_count": 24,
     "metadata": {},
     "output_type": "execute_result"
    },
    {
     "data": {
      "image/png": "[encoded data removed]",
      "text/plain": [
       "<Figure size 432x288 with 1 Axes>"
      ]
     },
     "metadata": {
      "needs_background": "light"
     },
     "output_type": "display_data"
    }
   ],
   "source": [
    "plt.plot(features[0])"
   ]
  },
  {
   "cell_type": "code",
   "execution_count": 25,
   "metadata": {},
   "outputs": [
    {
     "data": {
      "text/plain": [
       "<matplotlib.image.AxesImage at 0x127c7174ca0>"
      ]
     },
     "execution_count": 25,
     "metadata": {},
     "output_type": "execute_result"
    },
    {
     "data": {
      "image/png": "[encoded data removed]",
      "text/plain": [
       "<Figure size 432x288 with 1 Axes>"
      ]
     },
     "metadata": {
      "needs_background": "light"
     },
     "output_type": "display_data"
    }
   ],
   "source": [
    "plt.imshow(np.reshape(features[0],(28,28)),cmap='gray')"
   ]
  },
  {
   "cell_type": "code",
   "execution_count": 26,
   "metadata": {},
   "outputs": [],
   "source": [
    "def one_hot(x):\n",
    "    res=-torch.ones((len(x),output_size))\n",
    "    for i in range(len(x)):\n",
    "        res[i][x[i]]=1\n",
    "    return res"
   ]
  },
  {
   "cell_type": "markdown",
   "metadata": {},
   "source": [
    "# Train"
   ]
  },
  {
   "cell_type": "code",
   "execution_count": 29,
   "metadata": {},
   "outputs": [],
   "source": [
    "net=FCN(width,depth,input_size,output_size)\n",
    "net.apply(init_weights)\n",
    "loss=nn.MultiMarginLoss(p=2,margin=margin)\n",
    "optimizer=optim.SGD(net.parameters(),lr=learning_rate,momentum=momentum)\n",
    "# optimizer=optim.AdamW(net.parameters(),lr=learning_rate)\n",
    "scheduler = optim.lr_scheduler.ExponentialLR(optimizer, gamma=gamma)\n",
    "# scheduler=optim.lr_scheduler.ReduceLROnPlateau(optimizer,patience=4,verbose=True)\n",
    "\n",
    "param_list=[]\n",
    "params=[param.detach().tolist() for param in net.parameters()]\n",
    "param_list.append(params)\n",
    "losses=[]\n",
    "# rates=[scheduler.get_last_lr()]\n",
    "    \n",
    "with torch.no_grad():\n",
    "    batch_err=[]\n",
    "    for imgs, labels in test_loader:\n",
    "        preds=torch.argmax(net(imgs),axis=1)\n",
    "        misses=0\n",
    "        for j in range(len(preds)):\n",
    "            if preds[j]!=labels[j]: misses+=1\n",
    "        batch_err.append(misses/len(preds))\n",
    "err_rates=[np.mean(batch_err)]"
   ]
  },
  {
   "cell_type": "code",
   "execution_count": 30,
   "metadata": {},
   "outputs": [
    {
     "name": "stderr",
     "output_type": "stream",
     "text": [
      "100%|██████████| 500/500 [3:23:01<00:00, 24.36s/it]  \n"
     ]
    },
    {
     "name": "stdout",
     "output_type": "stream",
     "text": [
      "Test accuracy: 0.9734\n"
     ]
    },
    {
     "data": {
      "image/png": "[encoded data removed]",
      "text/plain": [
       "<Figure size 432x288 with 1 Axes>"
      ]
     },
     "metadata": {
      "needs_background": "light"
     },
     "output_type": "display_data"
    },
    {
     "data": {
      "image/png": "[encoded data removed]",
      "text/plain": [
       "<Figure size 432x288 with 1 Axes>"
      ]
     },
     "metadata": {
      "needs_background": "light"
     },
     "output_type": "display_data"
    },
    {
     "data": {
      "image/png": "[encoded data removed]",
      "text/plain": [
       "<Figure size 432x288 with 1 Axes>"
      ]
     },
     "metadata": {
      "needs_background": "light"
     },
     "output_type": "display_data"
    },
    {
     "data": {
      "image/png": "[encoded data removed]",
      "text/plain": [
       "<Figure size 432x288 with 1 Axes>"
      ]
     },
     "metadata": {
      "needs_background": "light"
     },
     "output_type": "display_data"
    }
   ],
   "source": [
    "first=True\n",
    "step_count=0\n",
    "\n",
    "for epoch in tqdm(range(n_epochs)):\n",
    "    for i, (imgs, labels) in enumerate(train_loader):\n",
    "        labels=labels.type(dtype=torch.long)\n",
    "        optimizer.zero_grad()\n",
    "        #forward pass\n",
    "        Y_preds=net(imgs)\n",
    "\n",
    "        loss_step=loss(Y_preds,labels)\n",
    "        \n",
    "        #comment out to not save first loss\n",
    "        if first:\n",
    "            losses.append(float(loss_step.detach().numpy()))\n",
    "            first=False\n",
    "\n",
    "        #backward pass\n",
    "        loss_step.backward()\n",
    "        optimizer.step()\n",
    "        \n",
    "    if epoch%step==step-1:\n",
    "        losses.append(float(loss_step.detach().numpy()))\n",
    "        params=[param.detach().tolist() for param in net.parameters()]\n",
    "        param_list.append(params)\n",
    "\n",
    "        with torch.no_grad():\n",
    "            batch_err=[]\n",
    "            for imgs, labels in test_loader:\n",
    "                preds=torch.argmax(net(imgs),axis=1)\n",
    "                misses=0\n",
    "                for j in range(len(preds)):\n",
    "                    if preds[j]!=labels[j]: misses+=1\n",
    "                batch_err.append(misses/len(preds))\n",
    "            err_rates.append(np.mean(batch_err))\n",
    "            \n",
    "\n",
    "with torch.no_grad():\n",
    "    batch_acc=[]\n",
    "    for imgs, labels in test_loader:\n",
    "        preds=torch.argmax(net(imgs),axis=1)\n",
    "        misses=0\n",
    "        for j in range(len(preds)):\n",
    "            if preds[j]!=labels[j]: misses+=1\n",
    "        batch_acc.append(1-misses/len(preds))\n",
    "    acc=np.mean(batch_acc)\n",
    "print(f'Test accuracy: {acc:0.4f}')\n",
    "\n",
    "plt.plot(losses)\n",
    "plt.show()\n",
    "plt.plot(losses)\n",
    "plt.yscale('log')\n",
    "plt.show()\n",
    "\n",
    "plt.plot(err_rates)\n",
    "plt.show()\n",
    "plt.plot(err_rates)\n",
    "plt.yscale('log')\n",
    "plt.show()\n",
    "\n",
    "# plt.plot(rates)"
   ]
  },
  {
   "cell_type": "markdown",
   "metadata": {},
   "source": [
    "# Save Data"
   ]
  },
  {
   "cell_type": "code",
   "execution_count": null,
   "metadata": {},
   "outputs": [],
   "source": [
    "epochs=len(param_list)*step"
   ]
  },
  {
   "cell_type": "code",
   "execution_count": 34,
   "metadata": {},
   "outputs": [],
   "source": [
    "out_dict={\n",
    "    \"learning_rate\": learning_rate,\n",
    "    \"gamma\": gamma,\n",
    "    \"margin\": margin,\n",
    "    \"momentum\": momentum,\n",
    "    \"batch_size\": batch_size_train,\n",
    "    \"epochs\": (len(param_list)-1)*step,\n",
    "    \"input_size\": input_size,\n",
    "    \"output_size\": output_size,\n",
    "    \"depth\": depth,\n",
    "    \"width\": width,\n",
    "    \"test_accuracy\": acc,\n",
    "    \"losses\": losses,\n",
    "    \"err_rates\": err_rates,\n",
    "    \"step\": step,\n",
    "    \"parameters\": param_list\n",
    "}\n",
    "\n",
    "name_out=\"train_data/mnist_paper_lr-4_2.json\"\n",
    "\n",
    "with open(name_out,\"w\") as outfile:\n",
    "    json.dump(out_dict,outfile)"
   ]
  }
 ],
 "metadata": {
  "kernelspec": {
   "display_name": "Python 3 (ipykernel)",
   "language": "python",
   "name": "python3"
  },
  "language_info": {
   "codemirror_mode": {
    "name": "ipython",
    "version": 3
   },
   "file_extension": ".py",
   "mimetype": "text/x-python",
   "name": "python",
   "nbconvert_exporter": "python",
   "pygments_lexer": "ipython3",
   "version": "3.12.4"
  }
 },
 "nbformat": 4,
 "nbformat_minor": 4
}
